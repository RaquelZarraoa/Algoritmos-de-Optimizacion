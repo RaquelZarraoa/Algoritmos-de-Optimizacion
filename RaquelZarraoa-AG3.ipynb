{
 "cells": [
  {
   "attachments": {},
   "cell_type": "markdown",
   "metadata": {},
   "source": [
    "# Raquel Zarraoa Sardón\n",
    "## Actividad guiada 3"
   ]
  },
  {
   "attachments": {},
   "cell_type": "markdown",
   "metadata": {},
   "source": [
    "### Preparación de los datos"
   ]
  },
  {
   "cell_type": "code",
   "execution_count": null,
   "metadata": {},
   "outputs": [],
   "source": [
    "!pip install requests\n",
    "import urllib.request\n",
    "\n",
    "!pip install tsplib95\n",
    "import tsplib95"
   ]
  },
  {
   "cell_type": "code",
   "execution_count": 4,
   "metadata": {},
   "outputs": [],
   "source": [
    "import random\n",
    "import math \n",
    "import copy"
   ]
  },
  {
   "cell_type": "code",
   "execution_count": null,
   "metadata": {},
   "outputs": [],
   "source": [
    "#Librerias y carga del problema\n",
    "\n",
    "#http://elib.zib.de/pub/mp-testdata/tsp/tsplib/\n",
    "#Documentacion :\n",
    "  # https://wwwproxy.iwr.uni-heidelberg.de/groups/comopt/software/TSPLIB95/tsp95.pdf\n",
    "  # https://tsplib95.readthedocs.io/usage.html\n",
    "  # https://tsplib95.readthedocs.io/modules.html#module-tsplib95.models\n",
    "\n",
    "#Matriz de distancias\n",
    "file = \"swiss42.tsp\" ;\n",
    "urllib.request.urlretrieve(\"http://comopt.ifi.uni-heidelberg.de/software/TSPLIB95/tsp/swiss42.tsp.gz\", file + '.gz')\n",
    "!gzip -d swiss42.tsp.gz     #Descomprimir el fichero de datos"
   ]
  },
  {
   "cell_type": "code",
   "execution_count": 7,
   "metadata": {},
   "outputs": [],
   "source": [
    "#Objeto de tsplib95 para nuestro problema problema\n",
    "problem = tsplib95.load(file)\n",
    "\n",
    "#Nodos\n",
    "Nodos = list(problem.get_nodes())\n",
    "\n",
    "#Aristas\n",
    "Aristas = list(problem.get_edges())"
   ]
  },
  {
   "cell_type": "code",
   "execution_count": 8,
   "metadata": {},
   "outputs": [],
   "source": [
    "#Funciones de la Actividad Guiada 3\n",
    "#Se genera una solucion aleatoria con comienzo en en el nodo 0\n",
    "def crear_solucion(Nodos):\n",
    "  solucion = [Nodos[0]]\n",
    "  for n in Nodos[1:] :\n",
    "    solucion = solucion + [random.choice(list(set(Nodos) - set(solucion)))]\n",
    "  return solucion\n",
    "\n",
    "#Devuelve la distancia entre dos nodos\n",
    "def distancia(a,b, problem):\n",
    "  return problem.get_weight(a,b)\n",
    "\n",
    "#Devuelve la distancia total de una trayectoria/solucion\n",
    "def distancia_total(solucion, problem):\n",
    "  distancia_total = 0\n",
    "  for i in range(len(solucion)-1):\n",
    "    distancia_total += distancia(solucion[i] ,solucion[i+1] ,  problem)\n",
    "  return distancia_total + distancia(solucion[len(solucion)-1] ,solucion[0], problem)"
   ]
  },
  {
   "attachments": {},
   "cell_type": "markdown",
   "metadata": {},
   "source": [
    "### Búsqueda aleatoria"
   ]
  },
  {
   "cell_type": "code",
   "execution_count": 9,
   "metadata": {},
   "outputs": [
    {
     "name": "stdout",
     "output_type": "stream",
     "text": [
      "Mejor solucion: [0, 11, 23, 8, 10, 4, 32, 37, 16, 30, 22, 29, 5, 27, 18, 3, 41, 12, 26, 13, 38, 9, 19, 25, 34, 21, 24, 40, 39, 7, 33, 1, 36, 2, 6, 20, 35, 17, 14, 15, 31, 28]\n",
      "Distancia:      3676\n"
     ]
    }
   ],
   "source": [
    "#Busqueda aleatoria\n",
    "\n",
    "def busqueda_aleatoria(problem, N):\n",
    "    Nodos = list(problem.get_nodes())\n",
    "    mejor_solucion = []\n",
    "    mejor_distancia = float('inf')\n",
    "\n",
    "    for i in range(N):\n",
    "        solucion = crear_solucion(Nodos)\n",
    "        distancia = distancia_total(solucion,problem)\n",
    "\n",
    "        if distancia < mejor_distancia:\n",
    "            mejor_distancia = distancia\n",
    "            mejor_solucion = solucion\n",
    "\n",
    "    print('Mejor solucion:', mejor_solucion)\n",
    "    print(\"Distancia:     \", mejor_distancia)\n",
    "    return mejor_solucion\n",
    "\n",
    "\n",
    "solucion = busqueda_aleatoria(problem, 5000)"
   ]
  },
  {
   "attachments": {},
   "cell_type": "markdown",
   "metadata": {},
   "source": [
    "### Búsqueda local"
   ]
  },
  {
   "cell_type": "code",
   "execution_count": 10,
   "metadata": {},
   "outputs": [
    {
     "name": "stdout",
     "output_type": "stream",
     "text": [
      "Distancia Solucion Inicial: 3676\n",
      "Distancia Solucion Local: 3502\n"
     ]
    }
   ],
   "source": [
    "def genera_vecina(solucion):\n",
    "    mejor_solucion = []\n",
    "    mejor_distancia = float('inf')\n",
    "\n",
    "    for i in range(1,len(solucion)-1):\n",
    "        for j in range(i+1, len(solucion)):\n",
    "\n",
    "            vecina = solucion[:i] + [solucion[j]] + solucion[i+1:j] + [solucion[i]] + solucion[j+1:]\n",
    "\n",
    "            distancia_vecina = distancia_total(vecina, problem)\n",
    "\n",
    "        if distancia_vecina <= mejor_distancia:\n",
    "            mejor_distancia = distancia_vecina\n",
    "            mejor_solucion = vecina\n",
    "    \n",
    "    return mejor_solucion\n",
    "\n",
    "print(\"Distancia Solucion Inicial:\", distancia_total(solucion,problem))\n",
    "nueva_solucion = genera_vecina(solucion)\n",
    "print(\"Distancia Solucion Local:\", distancia_total(nueva_solucion, problem))"
   ]
  },
  {
   "cell_type": "code",
   "execution_count": 11,
   "metadata": {},
   "outputs": [
    {
     "name": "stdout",
     "output_type": "stream",
     "text": [
      "En la iteracion 9 , la mejor solucion encontrada es: [0, 37, 24, 6, 10, 39, 34, 31, 17, 19, 16, 41, 7, 29, 11, 23, 21, 27, 30, 28, 40, 13, 12, 4, 15, 18, 32, 2, 9, 38, 22, 25, 8, 1, 26, 5, 3, 14, 35, 36, 33, 20]\n",
      "distancia     : 3896\n"
     ]
    }
   ],
   "source": [
    "def busqueda_local(problem):\n",
    "    mejor_solucion = []\n",
    "\n",
    "    solucion_referencia = crear_solucion(Nodos)\n",
    "    mejor_distancia = distancia_total(solucion_referencia, problem)\n",
    "\n",
    "    iteracion = 0\n",
    "    while(1):\n",
    "        iteracion += 1\n",
    "\n",
    "        vecina = genera_vecina(solucion_referencia)\n",
    "\n",
    "        distancia_vecina = distancia_total(vecina, problem)\n",
    "\n",
    "        if distancia_vecina < mejor_distancia:\n",
    "            mejor_solucion = vecina\n",
    "            mejor_distancia = distancia_vecina\n",
    "        else:\n",
    "            print(\"En la iteracion\", iteracion, \", la mejor solucion encontrada es:\", mejor_solucion)\n",
    "            print(\"distancia     :\", mejor_distancia)\n",
    "            return mejor_solucion\n",
    "\n",
    "        solucion_referencia = vecina\n",
    "\n",
    "sol = busqueda_local(problem)"
   ]
  }
 ],
 "metadata": {
  "kernelspec": {
   "display_name": "Python 3",
   "language": "python",
   "name": "python3"
  },
  "language_info": {
   "codemirror_mode": {
    "name": "ipython",
    "version": 3
   },
   "file_extension": ".py",
   "mimetype": "text/x-python",
   "name": "python",
   "nbconvert_exporter": "python",
   "pygments_lexer": "ipython3",
   "version": "3.8.10"
  },
  "orig_nbformat": 4
 },
 "nbformat": 4,
 "nbformat_minor": 2
}

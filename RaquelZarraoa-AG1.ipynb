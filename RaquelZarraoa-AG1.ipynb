{
 "cells": [
  {
   "attachments": {},
   "cell_type": "markdown",
   "metadata": {},
   "source": [
    "Realizado el apartado para puntos extra"
   ]
  },
  {
   "attachments": {},
   "cell_type": "markdown",
   "metadata": {},
   "source": [
    "# Raquel Zarraoa Sardón\n",
    "## Actividad guiada 1"
   ]
  },
  {
   "attachments": {},
   "cell_type": "markdown",
   "metadata": {},
   "source": [
    "### Torres de hanoy"
   ]
  },
  {
   "cell_type": "code",
   "execution_count": 31,
   "metadata": {},
   "outputs": [
    {
     "name": "stdout",
     "output_type": "stream",
     "text": [
      "[[6, 5, 4, 3, 2, 1], [], []]\n",
      "[[6, 5, 4, 3, 2], [1], []]\n",
      "[[6, 5, 4, 3], [1], [2]]\n",
      "[[6, 5, 4, 3], [], [2, 1]]\n",
      "[[6, 5, 4], [3], [2, 1]]\n",
      "[[6, 5, 4, 1], [3], [2]]\n",
      "[[6, 5, 4, 1], [3, 2], []]\n",
      "[[6, 5, 4], [3, 2, 1], []]\n",
      "[[6, 5], [3, 2, 1], [4]]\n",
      "[[6, 5], [3, 2], [4, 1]]\n",
      "[[6, 5, 2], [3], [4, 1]]\n",
      "[[6, 5, 2, 1], [3], [4]]\n",
      "[[6, 5, 2, 1], [], [4, 3]]\n",
      "[[6, 5, 2], [1], [4, 3]]\n",
      "[[6, 5], [1], [4, 3, 2]]\n",
      "[[6, 5], [], [4, 3, 2, 1]]\n",
      "[[6], [5], [4, 3, 2, 1]]\n",
      "[[6, 1], [5], [4, 3, 2]]\n",
      "[[6, 1], [5, 2], [4, 3]]\n",
      "[[6], [5, 2, 1], [4, 3]]\n",
      "[[6, 3], [5, 2, 1], [4]]\n",
      "[[6, 3], [5, 2], [4, 1]]\n",
      "[[6, 3, 2], [5], [4, 1]]\n",
      "[[6, 3, 2, 1], [5], [4]]\n",
      "[[6, 3, 2, 1], [5, 4], []]\n",
      "[[6, 3, 2], [5, 4, 1], []]\n",
      "[[6, 3], [5, 4, 1], [2]]\n",
      "[[6, 3], [5, 4], [2, 1]]\n",
      "[[6], [5, 4, 3], [2, 1]]\n",
      "[[6, 1], [5, 4, 3], [2]]\n",
      "[[6, 1], [5, 4, 3, 2], []]\n",
      "[[6], [5, 4, 3, 2, 1], []]\n",
      "[[], [5, 4, 3, 2, 1], [6]]\n",
      "[[], [5, 4, 3, 2], [6, 1]]\n",
      "[[2], [5, 4, 3], [6, 1]]\n",
      "[[2, 1], [5, 4, 3], [6]]\n",
      "[[2, 1], [5, 4], [6, 3]]\n",
      "[[2], [5, 4, 1], [6, 3]]\n",
      "[[], [5, 4, 1], [6, 3, 2]]\n",
      "[[], [5, 4], [6, 3, 2, 1]]\n",
      "[[4], [5], [6, 3, 2, 1]]\n",
      "[[4, 1], [5], [6, 3, 2]]\n",
      "[[4, 1], [5, 2], [6, 3]]\n",
      "[[4], [5, 2, 1], [6, 3]]\n",
      "[[4, 3], [5, 2, 1], [6]]\n",
      "[[4, 3], [5, 2], [6, 1]]\n",
      "[[4, 3, 2], [5], [6, 1]]\n",
      "[[4, 3, 2, 1], [5], [6]]\n",
      "[[4, 3, 2, 1], [], [6, 5]]\n",
      "[[4, 3, 2], [1], [6, 5]]\n",
      "[[4, 3], [1], [6, 5, 2]]\n",
      "[[4, 3], [], [6, 5, 2, 1]]\n",
      "[[4], [3], [6, 5, 2, 1]]\n",
      "[[4, 1], [3], [6, 5, 2]]\n",
      "[[4, 1], [3, 2], [6, 5]]\n",
      "[[4], [3, 2, 1], [6, 5]]\n",
      "[[], [3, 2, 1], [6, 5, 4]]\n",
      "[[], [3, 2], [6, 5, 4, 1]]\n",
      "[[2], [3], [6, 5, 4, 1]]\n",
      "[[2, 1], [3], [6, 5, 4]]\n",
      "[[2, 1], [], [6, 5, 4, 3]]\n",
      "[[2], [1], [6, 5, 4, 3]]\n",
      "[[], [1], [6, 5, 4, 3, 2]]\n",
      "[[], [], [6, 5, 4, 3, 2, 1]]\n",
      "Numero de movimientos:  63\n"
     ]
    }
   ],
   "source": [
    "total=6\n",
    "l=list(range(total,0,-1))   # Elementos iniciales\n",
    "m=[l,[],[]]     # Visualizacion de las torres\n",
    "moves=0         # Contador de movimientos\n",
    "def mover(desde, hasta):\n",
    "    pieza=m[desde-1].pop(-1) # Coger la pieza del origen\n",
    "    m[hasta-1].append(pieza) # Añadir la pieza al destino\n",
    "    global moves\n",
    "    moves+=1\n",
    "    print(m)\n",
    "\n",
    "def torreHanoy(total,desde,hasta,pivot):\n",
    "    if(total==1):\n",
    "        mover(desde,hasta)\n",
    "    else:\n",
    "        torreHanoy(total-1,desde,pivot,hasta)\n",
    "        mover(desde,hasta)\n",
    "        torreHanoy(total-1,pivot,hasta,desde)\n",
    "\n",
    "print(m)\n",
    "torreHanoy(total,1,3,2)\n",
    "print(\"Numero de movimientos: \",moves)"
   ]
  },
  {
   "attachments": {},
   "cell_type": "markdown",
   "metadata": {},
   "source": [
    "### Algoritmo voraz"
   ]
  },
  {
   "cell_type": "code",
   "execution_count": 67,
   "metadata": {},
   "outputs": [
    {
     "name": "stdout",
     "output_type": "stream",
     "text": [
      "Sistema:  [25, 10, 5, 1]\n",
      "Solucion:  [3, 1, 1, 4]\n"
     ]
    }
   ],
   "source": [
    "def cambio_monedas(cambio,monedas):\n",
    "    sol = [0]*len(monedas)\n",
    "    for i in range(len(monedas)):\n",
    "        sol[i]=cambio//monedas[i]   # Numero de monedas necesarias\n",
    "        cambio-=sol[i]*monedas[i]   # Cantidad restante\n",
    "        if(cambio==0):\n",
    "            break    \n",
    "    return sol\n",
    "\n",
    "monedas = [25,10,5,1]\n",
    "print(\"Sistema: \",monedas)\n",
    "print(\"Solucion: \",cambio_monedas(94,monedas))"
   ]
  },
  {
   "attachments": {},
   "cell_type": "markdown",
   "metadata": {},
   "source": [
    "### Dos puntos mas cercanos\n",
    "\n",
    "#### 1 dimensión\n",
    "\n",
    "Algoritmo voraz"
   ]
  },
  {
   "cell_type": "code",
   "execution_count": 1,
   "metadata": {},
   "outputs": [],
   "source": [
    "import numpy as np"
   ]
  },
  {
   "cell_type": "code",
   "execution_count": 7,
   "metadata": {},
   "outputs": [
    {
     "name": "stdout",
     "output_type": "stream",
     "text": [
      "[46 25 91 54  9 41 20 92 89 45]\n"
     ]
    }
   ],
   "source": [
    "l=np.random.randint(100,size=(10))\n",
    "print(l)"
   ]
  },
  {
   "cell_type": "code",
   "execution_count": 8,
   "metadata": {},
   "outputs": [
    {
     "name": "stdout",
     "output_type": "stream",
     "text": [
      "[46, 45]\n",
      "45\n"
     ]
    }
   ],
   "source": [
    "def closestPointsV(list):\n",
    "    global moves\n",
    "    min=np.inf\n",
    "    for i in range(len(list)):\n",
    "        for j in range(i+1,len(list)):\n",
    "            moves+=1\n",
    "            if abs(list[i]-list[j])<min:\n",
    "                    min=abs(list[i]-list[j])\n",
    "                    points=[list[i],list[j]]\n",
    "    \n",
    "    return points\n",
    "\n",
    "moves =0\n",
    "# l=[0,2,3,5,8,]                \n",
    "print(closestPointsV(l))\n",
    "print(moves)\n"
   ]
  },
  {
   "attachments": {},
   "cell_type": "markdown",
   "metadata": {},
   "source": [
    "La complejidad del algoritmo voraz es $O(n^2)$"
   ]
  },
  {
   "attachments": {},
   "cell_type": "markdown",
   "metadata": {},
   "source": [
    "Divide y vencerás"
   ]
  },
  {
   "cell_type": "code",
   "execution_count": 9,
   "metadata": {},
   "outputs": [
    {
     "name": "stdout",
     "output_type": "stream",
     "text": [
      "[46, 45]\n",
      "47\n"
     ]
    }
   ],
   "source": [
    "def closestPointsD(list):\n",
    "    global moves\n",
    "    if len(list)==1:\n",
    "        moves+=1\n",
    "        return list,list,np.inf\n",
    "    elif len(list)==2:\n",
    "        moves+=1\n",
    "        return list,list,abs(list[0]-list[-1])\n",
    "    else:\n",
    "        a,pointsA,mina=closestPointsD(list[:len(list)//2])\n",
    "        b,pointsB,minb=closestPointsD(list[len(list)//2:])\n",
    "        if minb<mina:\n",
    "            minim=minb\n",
    "            points=pointsB\n",
    "        else:\n",
    "            minim=mina\n",
    "            points=pointsA\n",
    "        for i in a:\n",
    "            for j in b:\n",
    "                moves+=1\n",
    "                if abs(i-j)<minim:\n",
    "                    minim=abs(i-j)\n",
    "                    points=[i,j]\n",
    "        return list,points,minim\n",
    "\n",
    "    \n",
    "moves=0   \n",
    "sol=closestPointsD(l)               \n",
    "print(sol[1])\n",
    "print(moves)"
   ]
  },
  {
   "attachments": {},
   "cell_type": "markdown",
   "metadata": {},
   "source": [
    "La complejidad del algoritmo divide y vencerás es $O(n^2)$"
   ]
  }
 ],
 "metadata": {
  "kernelspec": {
   "display_name": "Python 3",
   "language": "python",
   "name": "python3"
  },
  "language_info": {
   "codemirror_mode": {
    "name": "ipython",
    "version": 3
   },
   "file_extension": ".py",
   "mimetype": "text/x-python",
   "name": "python",
   "nbconvert_exporter": "python",
   "pygments_lexer": "ipython3",
   "version": "3.8.10"
  },
  "orig_nbformat": 4
 },
 "nbformat": 4,
 "nbformat_minor": 2
}
